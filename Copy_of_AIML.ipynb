{
  "nbformat": 4,
  "nbformat_minor": 0,
  "metadata": {
    "colab": {
      "provenance": [],
      "authorship_tag": "ABX9TyMuV1Gve/WY5HNn9fSfJpfV",
      "include_colab_link": true
    },
    "kernelspec": {
      "name": "python3",
      "display_name": "Python 3"
    },
    "language_info": {
      "name": "python"
    }
  },
  "cells": [
    {
      "cell_type": "markdown",
      "metadata": {
        "id": "view-in-github",
        "colab_type": "text"
      },
      "source": [
        "<a href=\"https://colab.research.google.com/github/10ps/2001206077_ECE/blob/main/Copy_of_AIML.ipynb\" target=\"_parent\"><img src=\"https://colab.research.google.com/assets/colab-badge.svg\" alt=\"Open In Colab\"/></a>"
      ]
    },
    {
      "cell_type": "code",
      "execution_count": null,
      "metadata": {
        "colab": {
          "base_uri": "https://localhost:8080/"
        },
        "id": "ACYCDdwzn10M",
        "outputId": "e8406014-3e86-4006-fbad-0d3bcaadd60e"
      },
      "outputs": [
        {
          "output_type": "stream",
          "name": "stdout",
          "text": [
            "HELLO ECE\n"
          ]
        }
      ],
      "source": [
        "print('HELLO ECE')"
      ]
    },
    {
      "cell_type": "code",
      "source": [
        "print('Hello abit' ,end='') \n",
        "print('DEPT. OF ECE')"
      ],
      "metadata": {
        "colab": {
          "base_uri": "https://localhost:8080/"
        },
        "id": "GzyVXkLLq-T1",
        "outputId": "38133ebd-832d-4bdb-be6f-c25266a1b3fe"
      },
      "execution_count": null,
      "outputs": [
        {
          "output_type": "stream",
          "name": "stdout",
          "text": [
            "Hello abit DEPT. OF ECE\n"
          ]
        }
      ]
    },
    {
      "cell_type": "code",
      "source": [
        "# using of sep='' in print().\n",
        "a=7\n",
        "b=1\n",
        "c=2023\n",
        "print(a,b,c , sep='-')"
      ],
      "metadata": {
        "colab": {
          "base_uri": "https://localhost:8080/"
        },
        "id": "eUACi_wrsdb7",
        "outputId": "5a58a3fa-dc4c-4e8b-8006-c6544dec5053"
      },
      "execution_count": null,
      "outputs": [
        {
          "output_type": "stream",
          "name": "stdout",
          "text": [
            "7-1-2023\n"
          ]
        }
      ]
    },
    {
      "cell_type": "code",
      "source": [
        "x=0b10100 \n",
        "y=100\n",
        "z=0o215\n",
        "u=0x12d\n",
        "\n",
        "float_1=100.5\n",
        "float_2=1.5e2\n",
        "#Complex Literal\n",
        "a=5+3.14j\n",
        "print(x,y,z,u)\n",
        "print(float_1,float_2)\n",
        "print(a, a.imag, a.real)\n"
      ],
      "metadata": {
        "id": "L4w8ZH4wdsPy",
        "colab": {
          "base_uri": "https://localhost:8080/"
        },
        "outputId": "d573329e-7457-4d1c-e1c7-e6ebd297323b"
      },
      "execution_count": null,
      "outputs": [
        {
          "output_type": "stream",
          "name": "stdout",
          "text": [
            "20 100 141 301\n",
            "100.5 150.0\n",
            "(5+3.14j) 3.14 5.0\n"
          ]
        }
      ]
    },
    {
      "cell_type": "code",
      "source": [
        "a=23+5j\n",
        "b=2+5.12j\n",
        "c=a+b\n",
        "print(c)\n"
      ],
      "metadata": {
        "colab": {
          "base_uri": "https://localhost:8080/"
        },
        "id": "JXwxrAsBxPDQ",
        "outputId": "29d8874a-7869-4a99-a8be-65271dca3844"
      },
      "execution_count": null,
      "outputs": [
        {
          "output_type": "stream",
          "name": "stdout",
          "text": [
            "(25+10.120000000000001j)\n"
          ]
        }
      ]
    },
    {
      "cell_type": "markdown",
      "source": [],
      "metadata": {
        "id": "-kPzz-kcxOqe"
      }
    },
    {
      "cell_type": "code",
      "source": [
        "a=int(input('Enter 1st no ='))\n",
        "b=int(input('Enter 2nd no ='))\n",
        "c=a+b\n",
        "print('c=',c)"
      ],
      "metadata": {
        "colab": {
          "base_uri": "https://localhost:8080/"
        },
        "id": "vzhHutQ0yDKq",
        "outputId": "205e4810-7d70-4051-c990-0609a00533cb"
      },
      "execution_count": null,
      "outputs": [
        {
          "output_type": "stream",
          "name": "stdout",
          "text": [
            "Enter 1st no =12\n",
            "Enter 2nd no =13\n",
            "c= 25\n"
          ]
        }
      ]
    },
    {
      "cell_type": "code",
      "source": [
        "# using of / ,// and ** in Arithmetic Operator\n",
        "a=2\n",
        "b=4\n",
        "c=a/b\n",
        "print (c)\n",
        "d=a//b\n",
        "print(d)\n",
        "e=a**b\n",
        "print(e)"
      ],
      "metadata": {
        "colab": {
          "base_uri": "https://localhost:8080/"
        },
        "id": "yATi56tE0H79",
        "outputId": "378f07b9-136a-4325-aa4b-8d2ebf436fd6"
      },
      "execution_count": null,
      "outputs": [
        {
          "output_type": "stream",
          "name": "stdout",
          "text": [
            "0.5\n",
            "0\n",
            "16\n"
          ]
        }
      ]
    }
  ]
}